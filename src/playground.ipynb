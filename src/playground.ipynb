{
 "cells": [
  {
   "cell_type": "code",
   "execution_count": 1,
   "metadata": {},
   "outputs": [],
   "source": [
    "import re\n",
    "import json\n",
    "import sqlparse"
   ]
  },
  {
   "cell_type": "code",
   "execution_count": 115,
   "metadata": {},
   "outputs": [],
   "source": [
    "#pyfile_path=\"../scripts/process1.py\"\n",
    "pyfile_path=\"../notebooks/process2.ipynb\"\n",
    "with open(pyfile_path) as f:\n",
    "    content=f.read()"
   ]
  },
  {
   "cell_type": "code",
   "execution_count": 117,
   "metadata": {},
   "outputs": [
    {
     "data": {
      "text/plain": [
       "'{\"cells\":[{\"cell_type\":\"code\",\"execution_count\":null,\"metadata\":{},\"outputs\":[],\"source\":[\"importpandasaspd\\\\n\",\"\\\\n\",\"df1=pd.read_csv(\"a.csv\")\"]},{\"cell_type\":\"code\",\"execution_count\":null,\"metadata\":{},\"outputs\":[],\"source\":[\"df2=pd.read_csv(\\\\n\",\"\"b.csv\",\\\\n\",\"sep=\",\",\\\\n\",\"header=None\\\\n\",\")\\\\n\",\"\\\\n\",\"df3=pd.merge(df1,df2,on=\"ID\")\\\\n\",\"\\\\n\",\"df4=pd.read_csv(\"c.csv\",delimiter=\":\")\"]},{\"cell_type\":\"code\",\"execution_count\":null,\"metadata\":{},\"outputs\":[],\"source\":[\"\\\\n\",\"df3.to_csv(\"d.csv\",index=False)\"]},{\"cell_type\":\"code\",\"execution_count\":null,\"metadata\":{},\"outputs\":[],\"source\":[]}],\"metadata\":{\"kernelspec\":{\"display_name\":\"base\",\"language\":\"python\",\"name\":\"python3\"},\"language_info\":{\"name\":\"python\",\"version\":\"3.9.12(main,Apr42022,05:22:27)[MSCv.191664bit(AMD64)]\"},\"orig_nbformat\":4,\"vscode\":{\"interpreter\":{\"hash\":\"ad2bdc8ecc057115af97d19610ffacc2b4e99fae6737bb82f5d7fb13d2f2c186\"}}},\"nbformat\":4,\"nbformat_minor\":2}'"
      ]
     },
     "execution_count": 117,
     "metadata": {},
     "output_type": "execute_result"
    }
   ],
   "source": [
    "content=re.sub(\"[\\s]+\",\"\",content)\n",
    "content=re.sub(\"\\\\\\\\\\\"\",\"\\\"\",content)\n",
    "content"
   ]
  },
  {
   "cell_type": "code",
   "execution_count": 118,
   "metadata": {},
   "outputs": [],
   "source": [
    "json_path=\"../config/data_io_format.json\"\n",
    "with open(json_path) as f:\n",
    "    io_format=json.load(f)"
   ]
  },
  {
   "cell_type": "code",
   "execution_count": 119,
   "metadata": {},
   "outputs": [
    {
     "data": {
      "text/plain": [
       "{'function_suffix': '\\\\(\"([^\"]*)\"',\n",
       " 'input_pattern': ['pd.read_csv'],\n",
       " 'output_pattern': ['to_csv']}"
      ]
     },
     "execution_count": 119,
     "metadata": {},
     "output_type": "execute_result"
    }
   ],
   "source": [
    "io_format"
   ]
  },
  {
   "cell_type": "code",
   "execution_count": 120,
   "metadata": {},
   "outputs": [],
   "source": [
    "inp=io_format[\"input_pattern\"][0]\n",
    "suf=io_format[\"function_suffix\"]"
   ]
  },
  {
   "cell_type": "code",
   "execution_count": 121,
   "metadata": {},
   "outputs": [
    {
     "data": {
      "text/plain": [
       "['a.csv', 'c.csv']"
      ]
     },
     "execution_count": 121,
     "metadata": {},
     "output_type": "execute_result"
    }
   ],
   "source": [
    "re.findall(inp+suf,content)"
   ]
  },
  {
   "cell_type": "code",
   "execution_count": null,
   "metadata": {},
   "outputs": [],
   "source": []
  }
 ],
 "metadata": {
  "kernelspec": {
   "display_name": "dwh_mng",
   "language": "python",
   "name": "python3"
  },
  "language_info": {
   "codemirror_mode": {
    "name": "ipython",
    "version": 3
   },
   "file_extension": ".py",
   "mimetype": "text/x-python",
   "name": "python",
   "nbconvert_exporter": "python",
   "pygments_lexer": "ipython3",
   "version": "3.10.8"
  },
  "orig_nbformat": 4,
  "vscode": {
   "interpreter": {
    "hash": "5cb22dd69ac50d65c4b4ebc000b411f9b7bdd4b2f29619b98e44f3cafb36b0df"
   }
  }
 },
 "nbformat": 4,
 "nbformat_minor": 2
}
